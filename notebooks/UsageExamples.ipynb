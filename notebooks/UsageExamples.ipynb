{
 "cells": [
  {
   "cell_type": "code",
   "execution_count": 2,
   "id": "26ac6bc2",
   "metadata": {},
   "outputs": [],
   "source": [
    "import numpy as np\n",
    "import matplotlib.pyplot as plt\n",
    "from astropy import units as u, constants as c\n",
    "\n",
    "from pyIntroAstro import formatting as fmt\n",
    "from pyIntroAstro import astrophysics as ap"
   ]
  },
  {
   "cell_type": "code",
   "execution_count": 4,
   "id": "cb3575f1",
   "metadata": {},
   "outputs": [
    {
     "data": {
      "text/plain": [
       "'1.99e+30 kg'"
      ]
     },
     "execution_count": 4,
     "metadata": {},
     "output_type": "execute_result"
    }
   ],
   "source": [
    "# Formatting test\n",
    "fmt.Qprint(c.M_sun)"
   ]
  },
  {
   "cell_type": "code",
   "execution_count": 5,
   "id": "24ac9f17",
   "metadata": {},
   "outputs": [
    {
     "name": "stdout",
     "output_type": "stream",
     "text": [
      "1.99e+30 kg\n"
     ]
    }
   ],
   "source": [
    "print(fmt.Qprint(c.M_sun))"
   ]
  },
  {
   "cell_type": "code",
   "execution_count": 6,
   "id": "2163725b",
   "metadata": {},
   "outputs": [],
   "source": [
    "fmt.Qprint?"
   ]
  },
  {
   "cell_type": "code",
   "execution_count": 7,
   "id": "7f259b25",
   "metadata": {},
   "outputs": [
    {
     "name": "stdout",
     "output_type": "stream",
     "text": [
      "1.9884099e+30 kg\n"
     ]
    }
   ],
   "source": [
    "print(fmt.Qprint(c.M_sun, sigfig = 8))"
   ]
  },
  {
   "cell_type": "code",
   "execution_count": 8,
   "id": "ccfd5373",
   "metadata": {},
   "outputs": [],
   "source": [
    "ap.SahaClosedBoxH?"
   ]
  },
  {
   "cell_type": "code",
   "execution_count": 9,
   "id": "9658cb9e",
   "metadata": {},
   "outputs": [],
   "source": [
    "T = np.linspace(3000, 25000, 100)*u.K\n",
    "rho = 1e-6 * u.kg/u.m**3"
   ]
  },
  {
   "cell_type": "code",
   "execution_count": 11,
   "id": "8963df64",
   "metadata": {},
   "outputs": [
    {
     "data": {
      "image/png": "[encoded data removed]",
      "text/plain": [
       "<Figure size 432x288 with 1 Axes>"
      ]
     },
     "metadata": {
      "needs_background": "light"
     },
     "output_type": "display_data"
    }
   ],
   "source": [
    "plt.plot(T, ap.SahaClosedBoxH(rho, T))\n",
    "plt.xlabel('Temperature (K)')\n",
    "plt.ylabel('H Ionization Fraction');"
   ]
  },
  {
   "cell_type": "code",
   "execution_count": null,
   "id": "e4d44239",
   "metadata": {},
   "outputs": [],
   "source": []
  }
 ],
 "metadata": {
  "kernelspec": {
   "display_name": "phys5526",
   "language": "python",
   "name": "phys5526"
  },
  "language_info": {
   "codemirror_mode": {
    "name": "ipython",
    "version": 3
   },
   "file_extension": ".py",
   "mimetype": "text/x-python",
   "name": "python",
   "nbconvert_exporter": "python",
   "pygments_lexer": "ipython3",
   "version": "3.8.13"
  }
 },
 "nbformat": 4,
 "nbformat_minor": 5
}
